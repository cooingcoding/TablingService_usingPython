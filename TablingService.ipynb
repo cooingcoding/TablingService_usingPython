{
 "cells": [
  {
   "cell_type": "markdown",
   "id": "d74e121e",
   "metadata": {},
   "source": [
    "# 클래스 선언"
   ]
  },
  {
   "cell_type": "code",
   "execution_count": 1,
   "id": "db48cf14",
   "metadata": {},
   "outputs": [],
   "source": [
    "class Cafe :\n",
    "    \n",
    "    def __init__(self) :\n",
    "        self.table_List = list()\n",
    "        self.menu_List = list()\n",
    "        self.stay_List = list()\n",
    "        self.name = \"\"\n",
    "    \n",
    "    def get_Name(self) :\n",
    "        return self.name\n",
    "    \n",
    "    def set_Name(self) :\n",
    "        name = input(\"상호명 : \")\n",
    "        self.name = name\n",
    "        \n",
    "    def get_Table(self) :\n",
    "        return self.table_List\n",
    "    \n",
    "    def set_Table(self) :\n",
    "        n = int(input(\"테이블 개수 = \"))\n",
    "        for i in range(1, n+1) :\n",
    "            self.get_Table().append([i, 0, []])\n",
    "    \n",
    "    def clear(self) :\n",
    "        self.table_List = []\n",
    "        self.menu_List = []\n",
    "        self.stay_List = []\n",
    "        self.name = \"\""
   ]
  },
  {
   "cell_type": "markdown",
   "id": "af045820",
   "metadata": {},
   "source": [
    "#  메뉴"
   ]
  },
  {
   "cell_type": "code",
   "execution_count": 2,
   "id": "51a168e8",
   "metadata": {},
   "outputs": [],
   "source": [
    "def get_Menu(self) :\n",
    "        return self.menu_List"
   ]
  },
  {
   "cell_type": "code",
   "execution_count": 3,
   "id": "9a9be801",
   "metadata": {},
   "outputs": [],
   "source": [
    "def select_Menu(self) :\n",
    "        print(\"-\"*40)\n",
    "        print(\"번호       제품명       금액\")\n",
    "        for menu in self.get_Menu() :\n",
    "            print(\"%s %7s %7s원\" %(menu[0],menu[1],menu[2]))\n",
    "        print(\"-\"*40)"
   ]
  },
  {
   "cell_type": "code",
   "execution_count": 4,
   "id": "1319b40b",
   "metadata": {},
   "outputs": [],
   "source": [
    "def set_Menu(self) :\n",
    "        print(\"-- < %s > --\" %self.get_Name())\n",
    "        print(\"-\"*40)\n",
    "        print(\"메뉴 추가 : 0 = 종료\")\n",
    "        print(\"-\"*40)\n",
    "        \n",
    "        index = 0\n",
    "        while True :\n",
    "            menu = input(\"메뉴 이름 : \")\n",
    "            if menu == \"0\" :\n",
    "                self.select_Menu()\n",
    "                break\n",
    "            \n",
    "            else :\n",
    "                price = int(input(\"가격 설정 : \"))\n",
    "                index += 1\n",
    "                self.get_Menu().append([index, menu, price])\n",
    "                print(\"= 메뉴가 추가 되었습니다 =\\n\")                "
   ]
  },
  {
   "cell_type": "markdown",
   "id": "d3453f55",
   "metadata": {},
   "source": [
    "# 주문"
   ]
  },
  {
   "cell_type": "code",
   "execution_count": 5,
   "id": "1a89f2a9",
   "metadata": {},
   "outputs": [],
   "source": [
    "def table_Check(self) :\n",
    "        for table in self.get_Table() :\n",
    "            if table[1] == 0 :\n",
    "                table[1] = 1\n",
    "                \n",
    "                domain = len(self.get_Menu())\n",
    "                self.select_Menu()\n",
    "                \n",
    "                while True :\n",
    "                    num = int(input(\"메뉴를 선택하세요 (종료하려면 0입력)\"))\n",
    "                    if str(num) == \"0\" :\n",
    "                        break\n",
    "                    \n",
    "                    elif num >= 1 and num <= domain :\n",
    "                        \n",
    "                        name = self.get_Menu()[num-1][1]\n",
    "                        price = self.get_Menu()[num-1][2]\n",
    "                        \n",
    "                        print(\"%s의 \" %name, end=\"\")\n",
    "                        priceNum = int(input(\"수량 = \"))\n",
    "                        tot = price * priceNum\n",
    "                        table[2].append([num, name, price, priceNum, tot])\n",
    "\n",
    "                break"
   ]
  },
  {
   "cell_type": "code",
   "execution_count": 6,
   "id": "3ae6097b",
   "metadata": {},
   "outputs": [],
   "source": [
    "def check_Out(self) :\n",
    "        tableNumber = int(input(\"결제 - 테이블 번호 = \"))\n",
    "        for table in self.get_Table() :\n",
    "            if table[0] == tableNumber :\n",
    "                self.select_Receipt(table[2])\n",
    "                table[1] = 0\n",
    "                table[2] = []"
   ]
  },
  {
   "cell_type": "code",
   "execution_count": 7,
   "id": "f1b7755c",
   "metadata": {},
   "outputs": [],
   "source": [
    "def select_Receipt(self, table) :\n",
    "        print(\"====== 영수증 ======\")\n",
    "        print(\"---\" + self.get_Name() + \"---\")\n",
    "        print(\"번호   제품명   단가   수량   금액\")\n",
    "        tot = 0\n",
    "        \n",
    "        for i in table:\n",
    "            print(\"%1.d %4s %4.d %4.d %4.d원\" %(i[0], i[1], i[2], i[3], i[4]))\n",
    "            tot += i[4]\n",
    "        \n",
    "        print(\"-\"*40)\n",
    "        print(\"총 결제 금액은 \"+ str(tot)+\"입니다.\")"
   ]
  },
  {
   "cell_type": "code",
   "execution_count": 8,
   "id": "08501469",
   "metadata": {},
   "outputs": [],
   "source": [
    "def add_cust(self) :\n",
    "        if self.full_Check() == True :\n",
    "            \n",
    "            stay_number = len(self.get_stay())\n",
    "            print(\"자리가 없습니다. 앞에 대기중인 손님 %d명 \"%stay_number)\n",
    "            name = input(\"대기명을 입력하세요 : \")\n",
    "            self.get_stay().append(name)\n",
    "            \n",
    "        if stay_number > 8:\n",
    "             print(\"죄송합니다. 해당 대기인원을 받을 수 없습니다. 다음에 저희 매장을 찾아주시길 바랍니다.\")\n",
    "        else :\n",
    "            if self.get_LenStay() != 0 :\n",
    "                del self.get_stay()[0]\n",
    "                self.table_Check()\n",
    "            else :\n",
    "                self.table_Check()\n",
    "                "
   ]
  },
  {
   "cell_type": "code",
   "execution_count": 9,
   "id": "d1501d46",
   "metadata": {},
   "outputs": [],
   "source": [
    "def full_Check(self) :\n",
    "        count = 0\n",
    "        for i in self.get_Table() :\n",
    "            if i[1] == 1 :\n",
    "                count += 1\n",
    "        \n",
    "        if count == len(self.get_Table()) :\n",
    "            return True"
   ]
  },
  {
   "cell_type": "markdown",
   "id": "9797d7b2",
   "metadata": {},
   "source": [
    "# 대기"
   ]
  },
  {
   "cell_type": "code",
   "execution_count": 10,
   "id": "fb798aff",
   "metadata": {},
   "outputs": [],
   "source": [
    "def get_stay(self) :\n",
    "    return self.stay_List  \n",
    "    \n",
    "def get_LenStay(self) :\n",
    "    return len(self.get_stay())"
   ]
  },
  {
   "cell_type": "code",
   "execution_count": 11,
   "id": "6ad7d0c0",
   "metadata": {},
   "outputs": [],
   "source": [
    " def seting(self) :\n",
    "\n",
    "        while True :\n",
    "            print()\n",
    "            print(\"=\"*40)\n",
    "#  print(\"1. 가게 Open\\n2. 테이블 조회\\n3. 가게 변경\\n4. 고객 추가\\n5. 고객 결제\\n0. 작업 종료\")\n",
    "            print(\"1. 가게 OPEN\\n2. 테이블 조회\\n3. 고객 추가\\n4. 고객 결제\\n5. 가게 변경\\n0. 작업 종료\")\n",
    "            print(\"=\"*40)\n",
    "            num = int(input(\"선택 = \"))\n",
    "            if num == 1 :\n",
    "                self.set_Name()   \n",
    "                self.set_Menu()\n",
    "                self.set_Table()\n",
    "\n",
    "            elif num == 2 :\n",
    "                print(\"\\n>-------- 테이블 현황 --------<\\n\")\n",
    "                for table in self.get_Table() :\n",
    "                    if table[1] == 1 :\n",
    "                        print(\"   - 테이블[%d] (%s)\" %(table[0],\"사용중...\"))\n",
    "                    else :\n",
    "                        print(\"   - 테이블[%d] (%s)\" %(table[0],\"비어있음...\"))\n",
    "                \n",
    "                print(\"\\n>-------- 대기줄 현황 --------<\\n\")\n",
    "                \n",
    "                if len(self.get_stay()) == 0 :\n",
    "                    print(\"   - 대기 없음 \")\n",
    "                    \n",
    "                else :\n",
    "                    String = \"   -- 대기 현황 : \"\n",
    "                    print(\"다음 손님은\", self.get_stay()[0], \"입니다. 잠시만 기다려주세요.\")\n",
    "                    for index in self.get_stay() :\n",
    "                        String += index + \", \"\n",
    "                        \n",
    "                    print(String)\n",
    "                        \n",
    "                    \n",
    "            elif num == 3 :\n",
    "                self.add_cust()\n",
    "                \n",
    "            elif num == 4 :\n",
    "                self.check_Out()\n",
    "                \n",
    "            elif num == 5 :\n",
    "                self.init()\n",
    "                self.set_Name()\n",
    "                self.set_Menu()\n",
    "                self.set_Table()\n",
    "                \n",
    "            elif num == 0 :\n",
    "                break"
   ]
  }
 ],
 "metadata": {
  "kernelspec": {
   "display_name": "Python 3 (ipykernel)",
   "language": "python",
   "name": "python3"
  },
  "language_info": {
   "codemirror_mode": {
    "name": "ipython",
    "version": 3
   },
   "file_extension": ".py",
   "mimetype": "text/x-python",
   "name": "python",
   "nbconvert_exporter": "python",
   "pygments_lexer": "ipython3",
   "version": "3.9.13"
  },
  "toc": {
   "base_numbering": 1,
   "nav_menu": {},
   "number_sections": true,
   "sideBar": true,
   "skip_h1_title": false,
   "title_cell": "Table of Contents",
   "title_sidebar": "Contents",
   "toc_cell": false,
   "toc_position": {},
   "toc_section_display": true,
   "toc_window_display": false
  }
 },
 "nbformat": 4,
 "nbformat_minor": 5
}
